{
 "cells": [
  {
   "cell_type": "code",
   "execution_count": 52,
   "metadata": {},
   "outputs": [
    {
     "name": "stdout",
     "output_type": "stream",
     "text": [
      "    index  year\n",
      "0    2009    39\n",
      "1    1999    37\n",
      "2    2003    35\n",
      "3    2007    34\n",
      "4    1994    30\n",
      "5    2006    29\n",
      "6    2016    29\n",
      "7    2005    29\n",
      "8    2002    29\n",
      "9    2004    26\n",
      "10   1996    26\n",
      "11   2010    25\n",
      "12   2012    25\n",
      "13   2011    25\n",
      "14   1998    25\n",
      "15   1987    24\n",
      "16   2013    24\n",
      "17   2000    23\n",
      "18   1986    23\n",
      "19   1990    23\n",
      "20   1983    23\n",
      "21   1984    22\n",
      "22   1992    21\n",
      "23   2001    21\n",
      "24   1985    21\n",
      "25   2015    19\n",
      "26   1997    19\n",
      "27   1989    18\n",
      "28   2014    18\n",
      "29   2008    18\n",
      "30   1993    17\n",
      "31   1981    17\n",
      "32   1982    15\n",
      "33   1988    15\n",
      "34   2017    15\n",
      "35   1991    14\n",
      "36   2018    13\n",
      "37   2019    13\n",
      "38   1995    13\n",
      "39   1979    13\n",
      "40   1980     9\n",
      "41   1975     7\n",
      "42   1972     3\n",
      "43   1977     3\n",
      "44   1978     2\n",
      "45   1974     2\n",
      "46   1971     1\n"
     ]
    },
    {
     "data": {
      "text/plain": [
       "<AxesSubplot:xlabel='index', ylabel='year'>"
      ]
     },
     "execution_count": 52,
     "metadata": {},
     "output_type": "execute_result"
    },
    {
     "data": {
      "image/png": "[encoded data removed]",
      "text/plain": [
       "<Figure size 720x432 with 1 Axes>"
      ]
     },
     "metadata": {
      "needs_background": "light"
     },
     "output_type": "display_data"
    }
   ],
   "source": [
    "#Q1]\n",
    "\n",
    "#Import important libraries\n",
    "import pandas as pd\n",
    "import seaborn as sns\n",
    "import numpy as np\n",
    "import matplotlib.pyplot as plt\n",
    "df=pd.read_csv(\"odi_1.csv\")\n",
    "df[['Day','year']] = df['Match Date'].str.split(',', expand=True)  #Splitting Match Date column into Day and year\n",
    "df['year'] = df['year'].astype(int) \n",
    "x=input(\"Enter the Country\")  #Take the input from user for a articular country\n",
    "df=df.drop(\"Match Date\",axis=\"columns\")\n",
    "a=df.loc[(df['Team 1']==x)|(df['Team 2']==x)]\n",
    "m=pd.DataFrame(a.year.value_counts())  #Count total number of matches played by the input country in the entire year\n",
    "m=m.reset_index()\n",
    "print(m)\n",
    "plt.figure(figsize=(10,6))\n",
    "sns.histplot(m,x='index',y='year',color='red')  #Plotting the histplot\n",
    "\n",
    "#This is for Australia"
   ]
  },
  {
   "cell_type": "code",
   "execution_count": 2,
   "metadata": {},
   "outputs": [
    {
     "name": "stdout",
     "output_type": "stream",
     "text": [
      "       Scorecard       Team 1        Team 2        Winner     Margin  \\\n",
      "3945  ODI # 3946  New Zealand      Pakistan   New Zealand    61 runs   \n",
      "3946  ODI # 3947  New Zealand      Pakistan   New Zealand  8 wickets   \n",
      "3947  ODI # 3948       U.A.E.       Ireland       Ireland  4 wickets   \n",
      "3948  ODI # 3949  New Zealand      Pakistan   New Zealand   183 runs   \n",
      "3949  ODI # 3950       U.A.E.       Ireland       Ireland    67 runs   \n",
      "...          ...          ...           ...           ...        ...   \n",
      "4068  ODI # 4069    Australia  South Africa  South Africa    40 runs   \n",
      "4069  ODI # 4070  New Zealand      Pakistan     no result        NaN   \n",
      "4070  ODI # 4071   Bangladesh   West Indies    Bangladesh  5 wickets   \n",
      "4071  ODI # 4072   Bangladesh   West Indies   West Indies  4 wickets   \n",
      "4072  ODI # 4073   Bangladesh   West Indies    Bangladesh  8 wickets   \n",
      "\n",
      "           Ground           HostCountry     Day  year  \n",
      "3945   Wellington           New Zealand   Jan 6  2018  \n",
      "3946       Nelson           New Zealand   Jan 9  2018  \n",
      "3947   ICCA Dubai  United Arab Emirates  Jan 11  2018  \n",
      "3948      Dunedin           New Zealand  Jan 13  2018  \n",
      "3949   ICCA Dubai  United Arab Emirates  Jan 13  2018  \n",
      "...           ...                   ...     ...   ...  \n",
      "4068       Hobart             Australia  Nov 11  2018  \n",
      "4069  Dubai (DSC)  United Arab Emirates  Nov 11  2018  \n",
      "4070        Dhaka            Bangladesh   Dec 9  2018  \n",
      "4071        Dhaka            Bangladesh  Dec 11  2018  \n",
      "4072       Sylhet            Bangladesh  Dec 14  2018  \n",
      "\n",
      "[128 rows x 9 columns]\n"
     ]
    }
   ],
   "source": [
    "# Q2] Filter the Dataset for the year 2018\n",
    "\n",
    "filtered=df.loc[df['year']==2018]  \n",
    "print(filtered)"
   ]
  },
  {
   "cell_type": "code",
   "execution_count": 4,
   "metadata": {},
   "outputs": [
    {
     "name": "stdout",
     "output_type": "stream",
     "text": [
      "           Team 1    Team 2\n",
      "3945  New Zealand  Pakistan\n",
      "3946  New Zealand  Pakistan\n",
      "3947       U.A.E.   Ireland\n",
      "3948  New Zealand  Pakistan\n",
      "3949       U.A.E.   Ireland\n"
     ]
    }
   ],
   "source": [
    "#Filter only team 1 and and team 2 columns\n",
    "\n",
    "s=filtered.filter(['Team 1','Team 2'])\n",
    "print(s.head())"
   ]
  },
  {
   "cell_type": "code",
   "execution_count": 5,
   "metadata": {},
   "outputs": [
    {
     "name": "stdout",
     "output_type": "stream",
     "text": [
      "               0\n",
      "index           \n",
      "Zimbabwe      26\n",
      "England       24\n",
      "India         20\n",
      "Afghanistan   20\n",
      "Bangladesh    20\n",
      "Pakistan      18\n",
      "West Indies   18\n",
      "South Africa  17\n",
      "Sri Lanka     17\n",
      "Ireland       13\n",
      "Australia     13\n",
      "New Zealand   13\n",
      "Scotland      11\n",
      "U.A.E.        11\n",
      "Hong Kong      6\n",
      "P.N.G.         4\n",
      "Nepal          3\n",
      "Netherlands    2\n"
     ]
    }
   ],
   "source": [
    "# Q3]\n",
    "#Finding total number of matches played by every country  in 2018\n",
    "\n",
    "df1 = s.melt(var_name='columns', value_name='index')\n",
    "comb=pd.crosstab(index=df1['index'], columns=df1['columns'])\n",
    "final=pd.DataFrame(comb['Team 1']+comb['Team 2'])\n",
    "print(final.sort_values(by=0,ascending=False))\n",
    "\n"
   ]
  },
  {
   "cell_type": "code",
   "execution_count": 6,
   "metadata": {},
   "outputs": [
    {
     "data": {
      "text/plain": [
       "England         17\n",
       "India           14\n",
       "Bangladesh      13\n",
       "Afghanistan     12\n",
       "South Africa     9\n",
       "Pakistan         8\n",
       "West Indies      8\n",
       "Ireland          8\n",
       "New Zealand      8\n",
       "Sri Lanka        6\n",
       "Scotland         5\n",
       "Zimbabwe         5\n",
       "U.A.E.           4\n",
       "tied             3\n",
       "Australia        2\n",
       "no result        2\n",
       "Hong Kong        1\n",
       "P.N.G.           1\n",
       "Netherlands      1\n",
       "Nepal            1\n",
       "Name: Winner, dtype: int64"
      ]
     },
     "execution_count": 6,
     "metadata": {},
     "output_type": "execute_result"
    }
   ],
   "source": [
    "# Q4] Finding the top winners \n",
    "filtered['Winner'].value_counts()\n",
    "#England won the maximum matches"
   ]
  },
  {
   "cell_type": "code",
   "execution_count": 7,
   "metadata": {},
   "outputs": [
    {
     "name": "stdout",
     "output_type": "stream",
     "text": [
      "                                    Team 1       Team 2       Winner  \\\n",
      "Ground             Scorecard                                           \n",
      "Abu Dhabi          ODI # 4038  Afghanistan    Sri Lanka  Afghanistan   \n",
      "                   ODI # 4041  Afghanistan   Bangladesh  Afghanistan   \n",
      "                   ODI # 4043  Afghanistan     Pakistan     Pakistan   \n",
      "                   ODI # 4045  Afghanistan   Bangladesh   Bangladesh   \n",
      "                   ODI # 4047   Bangladesh     Pakistan   Bangladesh   \n",
      "...                                    ...          ...          ...   \n",
      "Thiruvananthapuram ODI # 4064        India  West Indies        India   \n",
      "Visakhapatnam      ODI # 4059        India  West Indies         tied   \n",
      "Wellington         ODI # 3946  New Zealand     Pakistan  New Zealand   \n",
      "                   ODI # 3957  New Zealand     Pakistan  New Zealand   \n",
      "                   ODI # 3982  New Zealand      England      England   \n",
      "\n",
      "                                  Margin           HostCountry     Day  year  \n",
      "Ground             Scorecard                                                  \n",
      "Abu Dhabi          ODI # 4038    91 runs  United Arab Emirates  Sep 17  2018  \n",
      "                   ODI # 4041   136 runs  United Arab Emirates  Sep 20  2018  \n",
      "                   ODI # 4043  3 wickets  United Arab Emirates  Sep 21  2018  \n",
      "                   ODI # 4045     3 runs  United Arab Emirates  Sep 23  2018  \n",
      "                   ODI # 4047    37 runs  United Arab Emirates  Sep 26  2018  \n",
      "...                                  ...                   ...     ...   ...  \n",
      "Thiruvananthapuram ODI # 4064  9 wickets                 India   Nov 1  2018  \n",
      "Visakhapatnam      ODI # 4059       None                 India  Oct 24  2018  \n",
      "Wellington         ODI # 3946    61 runs           New Zealand   Jan 6  2018  \n",
      "                   ODI # 3957    15 runs           New Zealand  Jan 19  2018  \n",
      "                   ODI # 3982     4 runs           New Zealand   Mar 3  2018  \n",
      "\n",
      "[128 rows x 7 columns]\n"
     ]
    }
   ],
   "source": [
    "# Q5] Mapping the odi's based on grounds\n",
    "l=filtered.groupby(['Ground','Scorecard'])\n",
    "print(l.first())\n"
   ]
  },
  {
   "cell_type": "code",
   "execution_count": 45,
   "metadata": {},
   "outputs": [
    {
     "data": {
      "text/plain": [
       "Zimbabwe                 28\n",
       "United Arab Emirates     27\n",
       "Bangladesh               13\n",
       "United Kingdom           11\n",
       "Sri Lanka                10\n",
       "RSA                       9\n",
       "New Zealand               8\n",
       "Australia                 8\n",
       "India                     6\n",
       "Canada                    2\n",
       "USA                       2\n",
       "Netherlands               2\n",
       "Saint Kitts and Nevis     1\n",
       "Malaysia                  1\n",
       "Name: HostCountry, dtype: int64"
      ]
     },
     "execution_count": 45,
     "metadata": {},
     "output_type": "execute_result"
    }
   ],
   "source": [
    "# Q6] Finding country which played maximum matches in its home ground\n",
    "filtered['HostCountry'].value_counts()\n",
    "# Zimbabwe played the most matches in their home grounds"
   ]
  },
  {
   "cell_type": "code",
   "execution_count": 8,
   "metadata": {},
   "outputs": [
    {
     "name": "stdout",
     "output_type": "stream",
     "text": [
      "        Winner  runs\n",
      "4019  Pakistan   244\n",
      "4010   England   242\n",
      "3994   Ireland   226\n"
     ]
    },
    {
     "name": "stderr",
     "output_type": "stream",
     "text": [
      "C:\\Users\\hp\\AppData\\Local\\Programs\\Python\\Python39\\lib\\site-packages\\pandas\\core\\frame.py:3641: SettingWithCopyWarning: \n",
      "A value is trying to be set on a copy of a slice from a DataFrame.\n",
      "Try using .loc[row_indexer,col_indexer] = value instead\n",
      "\n",
      "See the caveats in the documentation: https://pandas.pydata.org/pandas-docs/stable/user_guide/indexing.html#returning-a-view-versus-a-copy\n",
      "  self[k1] = value[k2]\n"
     ]
    }
   ],
   "source": [
    "# Q8] Top Countries which won by runs\n",
    "\n",
    "m=filtered.filter(['Winner','Margin'])\n",
    "runs= m[m['Margin'].astype(str).str.contains('runs')]\n",
    "runs[['runs','del']] = runs['Margin'].str.split(' ', expand=True)\n",
    "runs=runs.drop(['del','Margin'],axis=1)\n",
    "runs['runs'] = runs['runs'].astype(int)\n",
    "runs=runs.sort_values('runs',ascending=False)\n",
    "print(runs.iloc[[0,1,2]]) "
   ]
  },
  {
   "cell_type": "code",
   "execution_count": 9,
   "metadata": {},
   "outputs": [
    {
     "name": "stdout",
     "output_type": "stream",
     "text": [
      "  index  Month\n",
      "0   Mar     26\n",
      "1   Jan     23\n",
      "2   Sep     14\n",
      "3   Oct     14\n",
      "4   Feb     13\n",
      "5   Jul     12\n",
      "6   Aug     10\n",
      "7   Nov      7\n",
      "8   Jun      6\n",
      "9   Dec      3\n"
     ]
    }
   ],
   "source": [
    "# Q9] Month in which maximum matches were played\n",
    "\n",
    "y=filtered.filter(['Day'])\n",
    "y[['Month','Date']] = y['Day'].str.split(' ', expand=True)\n",
    "y=y.drop(['Day','Date'],axis=1)\n",
    "n=pd.DataFrame(y['Month'].value_counts())\n",
    "n = n.reset_index()\n",
    "\n",
    "print(n)\n"
   ]
  },
  {
   "cell_type": "code",
   "execution_count": 10,
   "metadata": {},
   "outputs": [
    {
     "data": {
      "text/plain": [
       "<AxesSubplot:xlabel='index', ylabel='Month'>"
      ]
     },
     "execution_count": 10,
     "metadata": {},
     "output_type": "execute_result"
    },
    {
     "data": {
      "image/png": "[encoded data removed]",
      "text/plain": [
       "<Figure size 720x432 with 1 Axes>"
      ]
     },
     "metadata": {
      "needs_background": "light"
     },
     "output_type": "display_data"
    }
   ],
   "source": [
    "# Q10] Making a histogram of the table above\n",
    "\n",
    "plt.figure(figsize=(10,6))\n",
    "sns.histplot(n,x='index',y='Month',color='red')"
   ]
  },
  {
   "cell_type": "code",
   "execution_count": 11,
   "metadata": {},
   "outputs": [
    {
     "name": "stdout",
     "output_type": "stream",
     "text": [
      "Team 1    5\n",
      "Winner    5\n",
      "dtype: int64\n",
      "Team 2    9\n",
      "Winner    9\n",
      "dtype: int64\n"
     ]
    }
   ],
   "source": [
    "# Q11] Finding if india won more matched by playing in the first inning or second inning\n",
    "\n",
    "i1=filtered.filter(['Team 1','Winner'])\n",
    "c=i1.loc[(i1['Team 1']=='India')&(i1['Winner']=='India')].count()\n",
    "print (c)\n",
    "i2=filtered.filter(['Team 2','Winner'])\n",
    "d=i2.loc[(i2['Team 2']=='India')&(i2['Winner']=='India')].count()\n",
    "print(d)\n",
    "\n",
    "#Won more while playing in the second inning"
   ]
  },
  {
   "cell_type": "code",
   "execution_count": 46,
   "metadata": {},
   "outputs": [
    {
     "name": "stdout",
     "output_type": "stream",
     "text": [
      "           index   0  Loss  Won\n",
      "0    Afghanistan  20     8   12\n",
      "1      Australia  13    11    2\n",
      "2     Bangladesh  20     7   13\n",
      "3        England  24     7   17\n",
      "4      Hong Kong   6     5    1\n",
      "5          India  20     6   14\n",
      "6        Ireland  13     5    8\n",
      "7          Nepal   3     2    1\n",
      "8    Netherlands   2     1    1\n",
      "9    New Zealand  13     5    8\n",
      "10        P.N.G.   4     3    1\n",
      "11      Pakistan  18    10    8\n",
      "12      Scotland  11     6    5\n",
      "13  South Africa  17     8    9\n",
      "14     Sri Lanka  17    11    6\n",
      "15        U.A.E.  11     7    4\n",
      "16   West Indies  18    10    8\n",
      "17      Zimbabwe  26    21    5\n"
     ]
    }
   ],
   "source": [
    "# Q12] Finding team which lost the maximum matches\n",
    "\n",
    "m=filtered['Winner']\n",
    "a=pd.DataFrame(m.value_counts())\n",
    "a=a.reset_index()\n",
    "z=a.drop([a.index[13],a.index[15]])\n",
    "z=z.sort_values(by='index')\n",
    "z=z.reset_index()\n",
    "z=z.drop(['level_0'],axis=1)\n",
    "o=final[0]-z['Winner']\n",
    "final[\"Loss\"]=final[0]-z['Winner']\n",
    "final[\"Won\"]=z['Winner']\n",
    "print(final)\n"
   ]
  },
  {
   "cell_type": "code",
   "execution_count": 47,
   "metadata": {},
   "outputs": [
    {
     "name": "stdout",
     "output_type": "stream",
     "text": [
      "   index   0  Loss  Won\n",
      "5  India  20     6   14\n"
     ]
    }
   ],
   "source": [
    "# Q7] Performance of India in that year\n",
    "\n",
    "a=final.loc[(final['index']=='India')]\n",
    "print(a)"
   ]
  },
  {
   "cell_type": "code",
   "execution_count": 44,
   "metadata": {},
   "outputs": [
    {
     "name": "stdout",
     "output_type": "stream",
     "text": [
      "       index   0  Loss\n",
      "17  Zimbabwe  26    21\n"
     ]
    }
   ],
   "source": [
    "print(final[final.Loss==final.Loss.max()])"
   ]
  },
  {
   "cell_type": "code",
   "execution_count": 14,
   "metadata": {},
   "outputs": [
    {
     "name": "stdout",
     "output_type": "stream",
     "text": [
      "       By runs\n",
      "3945   61 runs\n",
      "3948  183 runs\n",
      "3949   67 runs\n",
      "3954   12 runs\n",
      "3955   24 runs\n",
      "...        ...\n",
      "4061   43 runs\n",
      "4062  224 runs\n",
      "4065   47 runs\n",
      "4066    7 runs\n",
      "4068   40 runs\n",
      "\n",
      "[63 rows x 1 columns]\n",
      "      By Wickets\n",
      "3946   8 wickets\n",
      "3947   4 wickets\n",
      "3950   5 wickets\n",
      "3951   8 wickets\n",
      "3952   5 wickets\n",
      "3953   6 wickets\n",
      "3957   4 wickets\n",
      "3961   5 wickets\n",
      "3962   4 wickets\n",
      "3964  10 wickets\n",
      "3965   3 wickets\n",
      "3968   6 wickets\n",
      "3969   9 wickets\n",
      "3972   5 wickets\n",
      "3974   6 wickets\n",
      "3976  10 wickets\n",
      "3977   8 wickets\n",
      "3979   3 wickets\n",
      "3980   6 wickets\n",
      "3982   7 wickets\n",
      "3984   4 wickets\n",
      "3985   4 wickets\n",
      "3988   5 wickets\n",
      "3990   6 wickets\n",
      "3991   7 wickets\n",
      "3996   3 wickets\n",
      "4001   4 wickets\n",
      "4002   5 wickets\n",
      "4005   5 wickets\n",
      "4006   7 wickets\n",
      "4008   3 wickets\n",
      "4011   6 wickets\n",
      "4013   8 wickets\n",
      "4016   9 wickets\n",
      "4017   8 wickets\n",
      "4018   9 wickets\n",
      "4024   5 wickets\n",
      "4026   4 wickets\n",
      "4032   3 wickets\n",
      "4034   8 wickets\n",
      "4036   8 wickets\n",
      "4039   8 wickets\n",
      "4041   7 wickets\n",
      "4042   3 wickets\n",
      "4043   9 wickets\n",
      "4047   3 wickets\n",
      "4048   5 wickets\n",
      "4050   4 wickets\n",
      "4053   7 wickets\n",
      "4055   8 wickets\n",
      "4059   7 wickets\n",
      "4060   7 wickets\n",
      "4063   9 wickets\n",
      "4064   6 wickets\n",
      "4067   6 wickets\n",
      "4070   5 wickets\n",
      "4071   4 wickets\n",
      "4072   8 wickets\n",
      "       Scorecard       Team 1        Team 2        Winner     Margin  \\\n",
      "3945  ODI # 3946  New Zealand      Pakistan   New Zealand    61 runs   \n",
      "3946  ODI # 3947  New Zealand      Pakistan   New Zealand  8 wickets   \n",
      "3947  ODI # 3948       U.A.E.       Ireland       Ireland  4 wickets   \n",
      "3948  ODI # 3949  New Zealand      Pakistan   New Zealand   183 runs   \n",
      "3949  ODI # 3950       U.A.E.       Ireland       Ireland    67 runs   \n",
      "...          ...          ...           ...           ...        ...   \n",
      "4068  ODI # 4069    Australia  South Africa  South Africa    40 runs   \n",
      "4069  ODI # 4070  New Zealand      Pakistan     no result        NaN   \n",
      "4070  ODI # 4071   Bangladesh   West Indies    Bangladesh  5 wickets   \n",
      "4071  ODI # 4072   Bangladesh   West Indies   West Indies  4 wickets   \n",
      "4072  ODI # 4073   Bangladesh   West Indies    Bangladesh  8 wickets   \n",
      "\n",
      "           Ground           HostCountry     Day  year  \n",
      "3945   Wellington           New Zealand   Jan 6  2018  \n",
      "3946       Nelson           New Zealand   Jan 9  2018  \n",
      "3947   ICCA Dubai  United Arab Emirates  Jan 11  2018  \n",
      "3948      Dunedin           New Zealand  Jan 13  2018  \n",
      "3949   ICCA Dubai  United Arab Emirates  Jan 13  2018  \n",
      "...           ...                   ...     ...   ...  \n",
      "4068       Hobart             Australia  Nov 11  2018  \n",
      "4069  Dubai (DSC)  United Arab Emirates  Nov 11  2018  \n",
      "4070        Dhaka            Bangladesh   Dec 9  2018  \n",
      "4071        Dhaka            Bangladesh  Dec 11  2018  \n",
      "4072       Sylhet            Bangladesh  Dec 14  2018  \n",
      "\n",
      "[128 rows x 9 columns]\n"
     ]
    }
   ],
   "source": [
    "# Q13] Dividing the column margin by runs and by wickets\n",
    "\n",
    "m=filtered.filter(['Margin'])\n",
    "run_win= m[m['Margin'].astype(str).str.contains('runs')]\n",
    "run_win.columns=['By runs']\n",
    "wicket_win=m[m['Margin'].astype(str).str.contains('wickets')]\n",
    "wicket_win.columns=['By Wickets']\n",
    "print(run_win)\n",
    "print(wicket_win)\n",
    "print(filtered)\n",
    "\n"
   ]
  },
  {
   "cell_type": "code",
   "execution_count": 15,
   "metadata": {},
   "outputs": [
    {
     "name": "stdout",
     "output_type": "stream",
     "text": [
      "         Winner     Day\n",
      "4051  no result  Oct 10\n",
      "4069  no result  Nov 11\n"
     ]
    }
   ],
   "source": [
    "# Q14] Number of matches which ended with no reults in each month\n",
    "\n",
    "result=filtered.filter(['Winner','Day'])\n",
    "no_result=result.loc[(result['Winner']=='no result')]\n",
    "print(no_result)"
   ]
  }
 ],
 "metadata": {
  "interpreter": {
   "hash": "a12d694c3ccac42055183a0ad11e659c6a2db5c6555ad2c8919d5814fd4e404f"
  },
  "kernelspec": {
   "display_name": "Python 3 (ipykernel)",
   "language": "python",
   "name": "python3"
  },
  "language_info": {
   "codemirror_mode": {
    "name": "ipython",
    "version": 3
   },
   "file_extension": ".py",
   "mimetype": "text/x-python",
   "name": "python",
   "nbconvert_exporter": "python",
   "pygments_lexer": "ipython3",
   "version": "3.9.7"
  }
 },
 "nbformat": 4,
 "nbformat_minor": 2
}
